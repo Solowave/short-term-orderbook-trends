{
 "cells": [
  {
   "cell_type": "code",
   "execution_count": null,
   "metadata": {},
   "outputs": [],
   "source": [
    "feature_row = feature_df.sample()\n",
    "start_index = feature_row.index[0]\n",
    "\n",
    "label = labels_df.loc[feature_row.index]['5s_change'].values[0]\n",
    "prediction = model.predict(feature_row)\n",
    "\n",
    "plt.plot(feature_df.loc[start_index - 1_000:start_index]['midprice'])\n",
    "\n",
    "# draw an arrow based on the prediction\n",
    "if label == 0:\n",
    "    plt.arrow(start_index, feature_row.loc[start_index]['midprice'], 10, 0, head_width=10, head_length=10, fc='r', ec='r')\n",
    "elif label == 1:\n",
    "    plt.arrow(start_index, feature_row.loc[start_index]['midprice'], 0, 10, head_width=10, head_length=10, fc='r', ec='r')\n",
    "else:\n",
    "    plt.arrow(start_index, feature_row.loc[start_index]['midprice'], 0, -10, head_width=10, head_length=10, fc='r', ec='r')\n",
    "plt.title(f\"Predicted: {prediction} Actual: {label}\")\n",
    "plt.show()\n"
   ]
  }
 ],
 "metadata": {
  "language_info": {
   "name": "python"
  }
 },
 "nbformat": 4,
 "nbformat_minor": 2
}
